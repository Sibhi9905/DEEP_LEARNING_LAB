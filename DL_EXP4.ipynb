{
  "nbformat": 4,
  "nbformat_minor": 0,
  "metadata": {
    "colab": {
      "provenance": []
    },
    "kernelspec": {
      "name": "python3",
      "display_name": "Python 3"
    },
    "language_info": {
      "name": "python"
    }
  },
  "cells": [
    {
      "cell_type": "code",
      "execution_count": null,
      "metadata": {
        "id": "k7fx9cXteU6q"
      },
      "outputs": [],
      "source": []
    },
    {
      "cell_type": "code",
      "execution_count": null,
      "metadata": {
        "colab": {
          "base_uri": "https://localhost:8080/",
          "height": 420
        },
        "id": "aC0s6g43diD7",
        "outputId": "f4b80714-937a-47da-d81a-7acd1fdd00b1"
      },
      "outputs": [
        {
          "name": "stdout",
          "output_type": "stream",
          "text": [
            "Epoch 1, Loss: 1.4308\n",
            "Epoch 2, Loss: 1.0843\n",
            "Epoch 3, Loss: 0.9462\n",
            "Epoch 4, Loss: 0.8463\n",
            "Epoch 5, Loss: 0.7693\n",
            "Epoch 6, Loss: 0.7011\n",
            "Epoch 7, Loss: 0.6405\n",
            "Epoch 8, Loss: 0.5807\n",
            "Epoch 9, Loss: 0.5256\n",
            "Epoch 10, Loss: 0.4752\n",
            "Accuracy on test data: 69.75%\n"
          ]
        },
        {
          "data": {
            "image/png": "[encoded data removed]",
            "text/plain": [
              "<Figure size 1500x400 with 8 Axes>"
            ]
          },
          "metadata": {},
          "output_type": "display_data"
        }
      ],
      "source": [
        "# PROGRAM 5\n",
        "\n",
        "# Step 1: Import Libraries\n",
        "import torch\n",
        "import torch.nn as nn\n",
        "import torch.optim as optim\n",
        "import torchvision\n",
        "import torchvision.transforms as transforms\n",
        "import matplotlib.pyplot as plt\n",
        "\n",
        "# Step 2: Load and Preprocess CIFAR-10 Dataset\n",
        "transform = transforms.Compose([\n",
        "    transforms.ToTensor(),\n",
        "    transforms.Normalize((0.5, 0.5, 0.5), (0.5, 0.5, 0.5))  # Normalize to [-1, 1]\n",
        "])\n",
        "\n",
        "trainset = torchvision.datasets.CIFAR10(\n",
        "    root='./data', train=True, download=True, transform=transform\n",
        ")\n",
        "trainloader = torch.utils.data.DataLoader(trainset, batch_size=64, shuffle=True)\n",
        "\n",
        "testset = torchvision.datasets.CIFAR10(\n",
        "    root='./data', train=False, download=True, transform=transform\n",
        ")\n",
        "testloader = torch.utils.data.DataLoader(testset, batch_size=64, shuffle=False)\n",
        "\n",
        "classes = trainset.classes\n",
        "\n",
        "# Step 3: Define CNN Architecture\n",
        "class SimpleCNN(nn.Module):\n",
        "    def __init__(self):\n",
        "        super(SimpleCNN, self).__init__()\n",
        "        self.conv1 = nn.Conv2d(3, 16, 3, padding=1)   # Input: 3x32x32 → Output: 16x32x32\n",
        "        self.pool = nn.MaxPool2d(2, 2)                # Output size halves → 16x16x16\n",
        "        self.conv2 = nn.Conv2d(16, 32, 3, padding=1)  # Output: 32x16x16 → 32x8x8 after pooling\n",
        "        self.fc1 = nn.Linear(32 * 8 * 8, 128)         # Fully connected layer\n",
        "        self.fc2 = nn.Linear(128, 10)                 # 10 output classes\n",
        "        self.relu = nn.ReLU()\n",
        "\n",
        "    def forward(self, x):\n",
        "        x = self.pool(self.relu(self.conv1(x)))\n",
        "        x = self.pool(self.relu(self.conv2(x)))\n",
        "        x = x.view(-1, 32 * 8 * 8)  # Flatten\n",
        "        x = self.relu(self.fc1(x))\n",
        "        x = self.fc2(x)\n",
        "        return x\n",
        "\n",
        "# Step 4: Setup Device, Model, Loss, and Optimizer\n",
        "device = torch.device(\"cuda\" if torch.cuda.is_available() else \"cpu\")\n",
        "model = SimpleCNN().to(device)\n",
        "loss_fn = nn.CrossEntropyLoss()\n",
        "optimizer = optim.Adam(model.parameters(), lr=0.001)\n",
        "\n",
        "# Step 5: Train the CNN\n",
        "for epoch in range(10):  # Train for 10 epochs\n",
        "    running_loss = 0.0\n",
        "    for inputs, labels in trainloader:\n",
        "        inputs, labels = inputs.to(device), labels.to(device)\n",
        "\n",
        "        optimizer.zero_grad()        # Reset gradients\n",
        "        outputs = model(inputs)      # Forward pass\n",
        "        loss = loss_fn(outputs, labels)\n",
        "        loss.backward()              # Backpropagation\n",
        "        optimizer.step()             # Update weights\n",
        "\n",
        "        running_loss += loss.item()\n",
        "\n",
        "    print(f\"Epoch {epoch+1}, Loss: {running_loss / len(trainloader):.4f}\")\n",
        "\n",
        "# Step 6: Evaluate Model Performance\n",
        "correct, total = 0, 0\n",
        "with torch.no_grad():\n",
        "    for images, labels in testloader:\n",
        "        images, labels = images.to(device), labels.to(device)\n",
        "        outputs = model(images)\n",
        "        _, predicted = outputs.max(1)\n",
        "        total += labels.size(0)\n",
        "        correct += (predicted == labels).sum().item()\n",
        "\n",
        "print(f\"Accuracy on test data: {100 * correct / total:.2f}%\")\n",
        "\n",
        "# Step 7: Visualize Learned Filters from First Convolutional Layer\n",
        "def visualize_filters(layer, n_filters=8):\n",
        "    filters = layer.weight.data.clone().cpu()\n",
        "    fig, axs = plt.subplots(1, n_filters, figsize=(15, 4))\n",
        "\n",
        "    for i in range(n_filters):\n",
        "        f = filters[i]\n",
        "        f = (f - f.min()) / (f.max() - f.min())  # Normalize to [0,1] for display\n",
        "        axs[i].imshow(f.permute(1, 2, 0))       # Rearrange to HxWxC\n",
        "        axs[i].axis('off')\n",
        "        axs[i].set_title(f'Filter {i+1}')\n",
        "\n",
        "    plt.tight_layout()\n",
        "    plt.show()\n",
        "\n",
        "visualize_filters(model.conv1)"
      ]
    }
  ]
}