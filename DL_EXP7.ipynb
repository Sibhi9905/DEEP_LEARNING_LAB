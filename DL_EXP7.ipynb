{
  "nbformat": 4,
  "nbformat_minor": 0,
  "metadata": {
    "colab": {
      "provenance": []
    },
    "kernelspec": {
      "name": "python3",
      "display_name": "Python 3"
    },
    "language_info": {
      "name": "python"
    }
  },
  "cells": [
    {
      "cell_type": "code",
      "execution_count": null,
      "metadata": {
        "colab": {
          "base_uri": "https://localhost:8080/"
        },
        "id": "N4BuFQEBhMos",
        "outputId": "122591ec-413a-40ee-ce9f-c19233b90524"
      },
      "outputs": [
        {
          "output_type": "stream",
          "name": "stderr",
          "text": [
            "The attention mask is not set and cannot be inferred from input because pad token is same as eos token. As a consequence, you may observe unexpected behavior. Please pass your input's `attention_mask` to obtain reliable results.\n",
            "We strongly recommend passing in an `attention_mask` since your input_ids may be padded. See https://huggingface.co/docs/transformers/troubleshooting#incorrect-output-when-padding-tokens-arent-masked.\n",
            "You may ignore this warning if your `pad_token_id` (50256) is identical to the `bos_token_id` (50256), `eos_token_id` (50256), or the `sep_token_id` (None), and your input is not padded.\n"
          ]
        },
        {
          "output_type": "stream",
          "name": "stdout",
          "text": [
            "🖼️ Caption: a peacock standing on top of a body of water\n"
          ]
        }
      ],
      "source": [
        "import torch\n",
        "from transformers import VisionEncoderDecoderModel, ViTImageProcessor, AutoTokenizer\n",
        "from PIL import Image\n",
        "import os\n",
        "\n",
        "# Optional timeout fix\n",
        "os.environ[\"HF_HUB_HTTP_TIMEOUT\"] = \"60\"\n",
        "\n",
        "# Load pre-trained model and processor\n",
        "model_name = \"nlpconnect/vit-gpt2-image-captioning\"\n",
        "model = VisionEncoderDecoderModel.from_pretrained(model_name)\n",
        "processor = ViTImageProcessor.from_pretrained(model_name)\n",
        "tokenizer = AutoTokenizer.from_pretrained(model_name)\n",
        "\n",
        "# Set device\n",
        "device = torch.device(\"cuda\" if torch.cuda.is_available() else \"cpu\")\n",
        "model.to(device)\n",
        "model.eval()\n",
        "\n",
        "def generate_caption(image_path, max_length=30, num_beams=4):\n",
        "    image = Image.open(image_path).convert(\"RGB\")\n",
        "    pixel_values = processor(images=image, return_tensors=\"pt\").pixel_values.to(device)\n",
        "    output_ids = model.generate(pixel_values, max_length=max_length, num_beams=num_beams)\n",
        "    caption = tokenizer.decode(output_ids[0], skip_special_tokens=True)\n",
        "    return caption.strip()\n",
        "\n",
        "# Test\n",
        "if __name__ == \"__main__\":\n",
        "    img_path = \"/content/download.jpeg\"  # Make sure this exists\n",
        "    caption = generate_caption(img_path)\n",
        "    print(\"🖼️ Caption:\", caption)\n"
      ]
    }
  ]
}